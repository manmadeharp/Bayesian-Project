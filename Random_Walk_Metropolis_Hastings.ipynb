{
 "cells": [
  {
   "cell_type": "code",
   "id": "initial_id",
   "metadata": {
    "collapsed": true,
    "ExecuteTime": {
     "end_time": "2024-10-09T09:30:11.294013Z",
     "start_time": "2024-10-09T09:30:11.251865Z"
    }
   },
   "source": [
    "import random\n",
    "import numpy as np\n",
    "from PIL.GimpGradientFile import linear\n",
    "from numpy.typing import NDArray\n",
    "from typing import Optional\n",
    "import plotly\n",
    "import plotly.graph_objs as go\n",
    "import plotly.express as px\n"
   ],
   "outputs": [
    {
     "ename": "ModuleNotFoundError",
     "evalue": "No module named 'numpy'",
     "output_type": "error",
     "traceback": [
      "\u001B[1;31m---------------------------------------------------------------------------\u001B[0m",
      "\u001B[1;31mModuleNotFoundError\u001B[0m                       Traceback (most recent call last)",
      "Cell \u001B[1;32mIn[15], line 2\u001B[0m\n\u001B[0;32m      1\u001B[0m \u001B[38;5;28;01mimport\u001B[39;00m \u001B[38;5;21;01mrandom\u001B[39;00m\n\u001B[1;32m----> 2\u001B[0m \u001B[38;5;28;01mimport\u001B[39;00m \u001B[38;5;21;01mnumpy\u001B[39;00m \u001B[38;5;28;01mas\u001B[39;00m \u001B[38;5;21;01mnp\u001B[39;00m\n\u001B[0;32m      3\u001B[0m \u001B[38;5;28;01mfrom\u001B[39;00m \u001B[38;5;21;01mPIL\u001B[39;00m\u001B[38;5;21;01m.\u001B[39;00m\u001B[38;5;21;01mGimpGradientFile\u001B[39;00m \u001B[38;5;28;01mimport\u001B[39;00m linear\n\u001B[0;32m      4\u001B[0m \u001B[38;5;28;01mfrom\u001B[39;00m \u001B[38;5;21;01mnumpy\u001B[39;00m\u001B[38;5;21;01m.\u001B[39;00m\u001B[38;5;21;01mtyping\u001B[39;00m \u001B[38;5;28;01mimport\u001B[39;00m NDArray\n",
      "\u001B[1;31mModuleNotFoundError\u001B[0m: No module named 'numpy'"
     ]
    }
   ],
   "execution_count": 15
  },
  {
   "metadata": {
    "ExecuteTime": {
     "end_time": "2024-10-09T09:29:51.337385500Z",
     "start_time": "2024-10-02T19:16:27.043807Z"
    }
   },
   "cell_type": "code",
   "source": [
    "import numpy as np\n",
    "from numpy.typing import NDArray\n",
    "from typing import Tuple, Callable\n",
    "import matplotlib.pyplot as plt\n",
    "from scipy import stats\n",
    "from matplotlib.animation import FuncAnimation\n",
    "\n",
    "\n",
    "def linear_model(x, m, c):\n",
    "    return m * x + c\n",
    "\n",
    "\n",
    "class LinearData:\n",
    "    def __init__(self, m: float, b: float, sigma: float, size: int = 100):\n",
    "        self.m = m\n",
    "        self.b = b\n",
    "        self.sigma = sigma\n",
    "        self.size = size\n",
    "        self.x = np.linspace(0, 100, size)\n",
    "        self.y = self.generate_data()\n",
    "\n",
    "    def generate_data(self) -> NDArray[np.float64]:\n",
    "        return linear_model(self.x, self.m, self.b) + np.random.normal(0, self.sigma ** 2, self.size)\n",
    "\n",
    "    def plot_data(self):\n",
    "        plt.scatter(self.x, self.y, alpha=0.5)\n",
    "        plt.plot(self.x, linear_model(self.x, self.m, self.b), 'r-', label='True Line')\n",
    "        plt.legend()\n",
    "        plt.show()\n",
    "\n",
    "\n",
    "\n",
    "\n"
   ],
   "id": "d8114ed4880f1fc5",
   "outputs": [
    {
     "ename": "ModuleNotFoundError",
     "evalue": "No module named 'numpy'",
     "output_type": "error",
     "traceback": [
      "\u001B[1;31m---------------------------------------------------------------------------\u001B[0m",
      "\u001B[1;31mModuleNotFoundError\u001B[0m                       Traceback (most recent call last)",
      "Cell \u001B[1;32mIn[10], line 1\u001B[0m\n\u001B[1;32m----> 1\u001B[0m \u001B[38;5;28;01mimport\u001B[39;00m \u001B[38;5;21;01mnumpy\u001B[39;00m \u001B[38;5;28;01mas\u001B[39;00m \u001B[38;5;21;01mnp\u001B[39;00m\n\u001B[0;32m      2\u001B[0m \u001B[38;5;28;01mfrom\u001B[39;00m \u001B[38;5;21;01mnumpy\u001B[39;00m\u001B[38;5;21;01m.\u001B[39;00m\u001B[38;5;21;01mtyping\u001B[39;00m \u001B[38;5;28;01mimport\u001B[39;00m NDArray\n\u001B[0;32m      3\u001B[0m \u001B[38;5;28;01mfrom\u001B[39;00m \u001B[38;5;21;01mtyping\u001B[39;00m \u001B[38;5;28;01mimport\u001B[39;00m Tuple, Callable\n",
      "\u001B[1;31mModuleNotFoundError\u001B[0m: No module named 'numpy'"
     ]
    }
   ],
   "execution_count": 10
  },
  {
   "metadata": {
    "ExecuteTime": {
     "end_time": "2024-10-09T09:29:51.483992800Z",
     "start_time": "2024-10-02T19:16:27.818512Z"
    }
   },
   "cell_type": "code",
   "source": [
    "class RWMH:\n",
    "    def __init__(self, prop_model: Callable, theta_0: NDArray[np.float64], proposed_sigma, sample_size: int, x: NDArray[np.float64], y: NDArray[np.float64]):\n",
    "        self.model = prop_model\n",
    "        self.theta: NDArray[np.float64] = np.array([theta_0])  # theta(m, b)\n",
    "        self.sigma = proposed_sigma\n",
    "        self.samples = sample_size\n",
    "        self.iter = x\n",
    "        self.data = y\n",
    "\n",
    "    def log_likelihood(self, theta):\n",
    "        m, c = theta[0], theta[1]\n",
    "        # print(m, c)\n",
    "        return np.sum(-1 / 2 * (((self.data - self.model(self.iter, m, c)) / self.sigma) ** 2))\n",
    "\n",
    "    def proposal_ratio(self, theta_proposed, theta_current):\n",
    "        # print(\"Norm of theta\", np.linalg.norm(theta_proposed - theta_current))\n",
    "        return self.log_likelihood(theta_proposed) - self.log_likelihood(theta_current)\n",
    "\n",
    "    def sample(self):\n",
    "        for i in range(self.samples):\n",
    "            theta_proposed = np.random.normal(self.theta[-1], self.sigma ** 2, self.theta[-1].shape)\n",
    "            alpha = min(self.proposal_ratio(theta_proposed, self.theta[-1]), 1)\n",
    "            if np.log(np.random.random()) < alpha:\n",
    "                self.theta = np.vstack([self.theta, theta_proposed])\n",
    "            else:\n",
    "                self.theta = np.vstack([self.theta, self.theta[-1]])\n",
    "        return self.theta\n",
    "\n",
    "    def plot_samples(self):\n",
    "        plt.figure(figsize=(12, 6))\n",
    "        plt.subplot(111)\n",
    "        plt.plot(self.theta[:, 0], label='Slope')\n",
    "        plt.legend()\n",
    "        plt.title('Parameter Sample Path')\n",
    "        \n",
    "        plt.figure(figsize=(12, 6))\n",
    "        plt.subplot(122)   \n",
    "        plt.plot(self.theta[:, 1], label='Intercept')\n",
    "        plt.legend()\n",
    "        plt.title('Parameter Sample Path')\n",
    "        \n",
    "    def plot_error(self):\n",
    "        plt.figure(figsize=(12, 6))\n",
    "        iterations = range(len(self.theta))\n",
    "        mean_theta = np.mean(self.theta, axis=0)\n",
    "        plt.axhline(y=np.abs(l.m - mean_theta[0]), color='b', linestyle='--', label='Mean Slope Error')\n",
    "        plt.axhline(y=np.abs(l.b - mean_theta[1]), color='r', linestyle='--', label='Mean Intercept Error')\n",
    "        plt.plot(iterations, np.abs(l.m - self.theta[:, 0]), label='Slope Error', alpha=0.5)\n",
    "        plt.plot(iterations, np.abs(l.b - self.theta[:, 1]), label='Intercept Error', alpha=0.5)\n",
    "        plt.legend()\n",
    "        plt.xlabel('Iteration')\n",
    "        plt.ylabel('Absolute Error')\n",
    "        plt.title('Absolute Error of Parameters')\n",
    "    \n",
    "    def distribution_plot(self):\n",
    "        kde1 = stats.gaussian_kde(self.theta[:, 0])\n",
    "        kde2 = stats.gaussian_kde(self.theta[:, 1])\n",
    "        plt.figure(figsize=(8, 6))\n",
    "        plt.plot( self.iter, kde1(self.iter), 'k-', label=\"slope\")\n",
    "        plt.plot(self.iter, kde2(self.iter), 'b-', label=\"intersect\")\n",
    "        plt.xlabel('x')\n",
    "        plt.ylabel('Density')\n",
    "        plt.title(\"Parameter distributions\")\n",
    "        plt.legend(loc=1)\n",
    "\n",
    "    # TODO: Implement a method to sample the parameters in a step by step manner\n",
    "    def sample_step(self):\n",
    "            if len(self.theta) < self.samples:\n",
    "                theta_proposed = np.random.normal(self.theta[-1], self.sigma ** 2, self.theta[-1].shape)\n",
    "                alpha = min(self.proposal_ratio(theta_proposed, self.theta[-1]), 1)\n",
    "                if np.log(np.random.random()) < alpha:\n",
    "                    self.theta = np.vstack([self.theta, theta_proposed])\n",
    "                else:\n",
    "                    self.theta = np.vstack([self.theta, self.theta[-1]])\n",
    "            return self.theta[-1]\n"
   ],
   "id": "b2d855366a249114",
   "outputs": [
    {
     "ename": "NameError",
     "evalue": "name 'Callable' is not defined",
     "output_type": "error",
     "traceback": [
      "\u001B[1;31m---------------------------------------------------------------------------\u001B[0m",
      "\u001B[1;31mNameError\u001B[0m                                 Traceback (most recent call last)",
      "Cell \u001B[1;32mIn[11], line 1\u001B[0m\n\u001B[1;32m----> 1\u001B[0m \u001B[38;5;28;43;01mclass\u001B[39;49;00m\u001B[43m \u001B[49m\u001B[38;5;21;43;01mRWMH\u001B[39;49;00m\u001B[43m:\u001B[49m\n\u001B[0;32m      2\u001B[0m \u001B[43m    \u001B[49m\u001B[38;5;28;43;01mdef\u001B[39;49;00m\u001B[43m \u001B[49m\u001B[38;5;21;43m__init__\u001B[39;49m\u001B[43m(\u001B[49m\u001B[38;5;28;43mself\u001B[39;49m\u001B[43m,\u001B[49m\u001B[43m \u001B[49m\u001B[43mprop_model\u001B[49m\u001B[43m:\u001B[49m\u001B[43m \u001B[49m\u001B[43mCallable\u001B[49m\u001B[43m,\u001B[49m\u001B[43m \u001B[49m\u001B[43mtheta_0\u001B[49m\u001B[43m:\u001B[49m\u001B[43m \u001B[49m\u001B[43mNDArray\u001B[49m\u001B[43m[\u001B[49m\u001B[43mnp\u001B[49m\u001B[38;5;241;43m.\u001B[39;49m\u001B[43mfloat64\u001B[49m\u001B[43m]\u001B[49m\u001B[43m,\u001B[49m\u001B[43m \u001B[49m\u001B[43mproposed_sigma\u001B[49m\u001B[43m,\u001B[49m\u001B[43m \u001B[49m\u001B[43msample_size\u001B[49m\u001B[43m:\u001B[49m\u001B[43m \u001B[49m\u001B[38;5;28;43mint\u001B[39;49m\u001B[43m,\u001B[49m\u001B[43m \u001B[49m\u001B[43mx\u001B[49m\u001B[43m:\u001B[49m\u001B[43m \u001B[49m\u001B[43mNDArray\u001B[49m\u001B[43m[\u001B[49m\u001B[43mnp\u001B[49m\u001B[38;5;241;43m.\u001B[39;49m\u001B[43mfloat64\u001B[49m\u001B[43m]\u001B[49m\u001B[43m,\u001B[49m\u001B[43m \u001B[49m\u001B[43my\u001B[49m\u001B[43m:\u001B[49m\u001B[43m \u001B[49m\u001B[43mNDArray\u001B[49m\u001B[43m[\u001B[49m\u001B[43mnp\u001B[49m\u001B[38;5;241;43m.\u001B[39;49m\u001B[43mfloat64\u001B[49m\u001B[43m]\u001B[49m\u001B[43m)\u001B[49m\u001B[43m:\u001B[49m\n\u001B[0;32m      3\u001B[0m \u001B[43m        \u001B[49m\u001B[38;5;28;43mself\u001B[39;49m\u001B[38;5;241;43m.\u001B[39;49m\u001B[43mmodel\u001B[49m\u001B[43m \u001B[49m\u001B[38;5;241;43m=\u001B[39;49m\u001B[43m \u001B[49m\u001B[43mprop_model\u001B[49m\n",
      "Cell \u001B[1;32mIn[11], line 2\u001B[0m, in \u001B[0;36mRWMH\u001B[1;34m()\u001B[0m\n\u001B[0;32m      1\u001B[0m \u001B[38;5;28;01mclass\u001B[39;00m \u001B[38;5;21;01mRWMH\u001B[39;00m:\n\u001B[1;32m----> 2\u001B[0m     \u001B[38;5;28;01mdef\u001B[39;00m \u001B[38;5;21m__init__\u001B[39m(\u001B[38;5;28mself\u001B[39m, prop_model: \u001B[43mCallable\u001B[49m, theta_0: NDArray[np\u001B[38;5;241m.\u001B[39mfloat64], proposed_sigma, sample_size: \u001B[38;5;28mint\u001B[39m, x: NDArray[np\u001B[38;5;241m.\u001B[39mfloat64], y: NDArray[np\u001B[38;5;241m.\u001B[39mfloat64]):\n\u001B[0;32m      3\u001B[0m         \u001B[38;5;28mself\u001B[39m\u001B[38;5;241m.\u001B[39mmodel \u001B[38;5;241m=\u001B[39m prop_model\n\u001B[0;32m      4\u001B[0m         \u001B[38;5;28mself\u001B[39m\u001B[38;5;241m.\u001B[39mtheta: NDArray[np\u001B[38;5;241m.\u001B[39mfloat64] \u001B[38;5;241m=\u001B[39m np\u001B[38;5;241m.\u001B[39marray([theta_0])  \u001B[38;5;66;03m# theta(m, b)\u001B[39;00m\n",
      "\u001B[1;31mNameError\u001B[0m: name 'Callable' is not defined"
     ]
    }
   ],
   "execution_count": 11
  },
  {
   "metadata": {
    "ExecuteTime": {
     "end_time": "2024-10-09T09:29:51.487191300Z",
     "start_time": "2024-10-02T19:16:28.431403Z"
    }
   },
   "cell_type": "code",
   "source": [
    "l = LinearData(100, 50, 10, 100)\n",
    "\n",
    "l.generate_data()\n",
    "l.plot_data()\n",
    "\n",
    "r = RWMH(linear_model, np.array([0.0, 100.0]),5, 1000, l.x, l.y)\n",
    "r.sample()\n",
    "r.plot_samples()\n",
    "r.plot_error()\n",
    "plt.show()\n",
    "\n",
    "print(\"Estimated Parameters (m, c): \", r.theta[-1, :])\n",
    "print(\"True parameters(m, c): \", l.m, l.b)"
   ],
   "id": "2d8f481a0f784a8e",
   "outputs": [
    {
     "ename": "NameError",
     "evalue": "name 'LinearData' is not defined",
     "output_type": "error",
     "traceback": [
      "\u001B[1;31m---------------------------------------------------------------------------\u001B[0m",
      "\u001B[1;31mNameError\u001B[0m                                 Traceback (most recent call last)",
      "Cell \u001B[1;32mIn[12], line 1\u001B[0m\n\u001B[1;32m----> 1\u001B[0m l \u001B[38;5;241m=\u001B[39m \u001B[43mLinearData\u001B[49m(\u001B[38;5;241m100\u001B[39m, \u001B[38;5;241m50\u001B[39m, \u001B[38;5;241m10\u001B[39m, \u001B[38;5;241m100\u001B[39m)\n\u001B[0;32m      3\u001B[0m l\u001B[38;5;241m.\u001B[39mgenerate_data()\n\u001B[0;32m      4\u001B[0m l\u001B[38;5;241m.\u001B[39mplot_data()\n",
      "\u001B[1;31mNameError\u001B[0m: name 'LinearData' is not defined"
     ]
    }
   ],
   "execution_count": 12
  },
  {
   "metadata": {
    "ExecuteTime": {
     "end_time": "2024-10-09T09:29:51.487191300Z",
     "start_time": "2024-10-02T19:16:29.101112Z"
    }
   },
   "cell_type": "code",
   "source": [
    "r.distribution_plot()\n",
    "plt.show()\n"
   ],
   "id": "3a4b9e6f14038b73",
   "outputs": [
    {
     "ename": "NameError",
     "evalue": "name 'r' is not defined",
     "output_type": "error",
     "traceback": [
      "\u001B[1;31m---------------------------------------------------------------------------\u001B[0m",
      "\u001B[1;31mNameError\u001B[0m                                 Traceback (most recent call last)",
      "Cell \u001B[1;32mIn[13], line 1\u001B[0m\n\u001B[1;32m----> 1\u001B[0m \u001B[43mr\u001B[49m\u001B[38;5;241m.\u001B[39mdistribution_plot()\n\u001B[0;32m      2\u001B[0m plt\u001B[38;5;241m.\u001B[39mshow()\n",
      "\u001B[1;31mNameError\u001B[0m: name 'r' is not defined"
     ]
    }
   ],
   "execution_count": 13
  },
  {
   "metadata": {},
   "cell_type": "code",
   "outputs": [],
   "execution_count": null,
   "source": "  ",
   "id": "af917bdf0f53778e"
  }
 ],
 "metadata": {
  "kernelspec": {
   "display_name": "Python 3",
   "language": "python",
   "name": "python3"
  },
  "language_info": {
   "codemirror_mode": {
    "name": "ipython",
    "version": 2
   },
   "file_extension": ".py",
   "mimetype": "text/x-python",
   "name": "python",
   "nbconvert_exporter": "python",
   "pygments_lexer": "ipython2",
   "version": "2.7.6"
  }
 },
 "nbformat": 4,
 "nbformat_minor": 5
}
